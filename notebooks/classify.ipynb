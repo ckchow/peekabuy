{
 "cells": [
  {
   "cell_type": "code",
   "execution_count": 88,
   "metadata": {
    "collapsed": false
   },
   "outputs": [
    {
     "name": "stderr",
     "output_type": "stream",
     "text": [
      "/Users/peekabuy/projects/detect_clothes/env/lib/python3.5/site-packages/matplotlib/__init__.py:1350: UserWarning:  This call to matplotlib.use() has no effect\n",
      "because the backend has already been chosen;\n",
      "matplotlib.use() must be called *before* pylab, matplotlib.pyplot,\n",
      "or matplotlib.backends is imported for the first time.\n",
      "\n",
      "  warnings.warn(_use_error_msg)\n"
     ]
    }
   ],
   "source": [
    "import matplotlib\n",
    "matplotlib.use('TkAgg')\n",
    "\n",
    "import requests\n",
    "import urllib.request\n",
    "import keras\n",
    "import sklearn\n",
    "import sklearn.cross_validation\n",
    "import os\n",
    "import cv2\n",
    "\n",
    "import pandas as pd\n",
    "import seaborn as sns\n",
    "import numpy as np\n",
    "import matplotlib.pyplot as plt\n",
    "import matplotlib.patches as patches\n",
    "\n",
    "from pathlib import Path\n",
    "from keras.preprocessing.image import ImageDataGenerator\n",
    "\n",
    "%matplotlib inline"
   ]
  },
  {
   "cell_type": "code",
   "execution_count": 2,
   "metadata": {
    "collapsed": true
   },
   "outputs": [],
   "source": [
    "# import data\n",
    "r = requests.get('https://test.flaunt.peekabuy.com/api/board/get_jc_product_images_batch/?page=3')"
   ]
  },
  {
   "cell_type": "code",
   "execution_count": 7,
   "metadata": {
    "collapsed": false
   },
   "outputs": [],
   "source": [
    "image_urls = r.json()['images']"
   ]
  },
  {
   "cell_type": "code",
   "execution_count": 15,
   "metadata": {
    "collapsed": false,
    "scrolled": true
   },
   "outputs": [
    {
     "name": "stdout",
     "output_type": "stream",
     "text": [
      "../data/4fbedb7bf74ebea3381a5f94ef413eac.jpg\n",
      "../data/661f7f5b758dad38ac6fdf3922c648e4.jpg\n",
      "../data/97db99ef15d57e2779b6798462023659.jpg\n",
      "../data/186d262630df3cbd68012ab89ba71e35.jpg\n",
      "../data/92c8032a9a040ad2c68dff2918f458e6.jpg\n",
      "../data/a0699e1cac5faf222ce1e8009ffae59a.jpg\n",
      "../data/5e52345a3a1fe6709eb5de229b13479c.jpg\n",
      "../data/a0e0ee65222834586338f17ce10e87eb.jpg\n",
      "../data/a6d379e60044ee743d47e6eabe35386d.jpg\n",
      "../data/80e77b7aab508f91862a11d0edd89bbc.jpg\n",
      "../data/748c6281ba693ed4f3ecc486d017dd50.jpg\n",
      "../data/93ba72bc36d1c2e0efd15fd21e910d32.jpg\n",
      "../data/530bcb6c7858f32df07301728ae49da1.jpg\n",
      "../data/f3ffb4577141d62aeb3709e6e6424c45.jpg\n",
      "../data/3d7276af693af671a3d5a2f3cc06bc0e.jpg\n",
      "../data/6165f54a8c68de1dad78db2a79e96c63.jpg\n",
      "../data/0c6fe551acc18ac002b3e8084048743c.jpg\n",
      "../data/7c2e0159e68207a35a8ff69238cf63ae.jpg\n",
      "../data/5664037d3669fbcb93aee4d03942e3dd.jpg\n",
      "../data/39bf523d1eb84d6ece22e481cc32edc3.jpg\n",
      "../data/f121e9ac236e0e12b515b8e0d4b3de62.jpg\n",
      "../data/5b6191cd14ac7a09f5b924a72958d91c.jpg\n",
      "../data/a5b5bd10c8e71f6af8d80e626b7e49a8.jpg\n",
      "../data/1b762f7ac267b9a412a27bdb9d1ffd86.jpg\n",
      "../data/58109c089ba233aa0cad57ea5609ccb9.jpg\n",
      "../data/d6b99d18034fbb0fec1a90307bf2e94a.jpg\n",
      "../data/4b96ecd15d8e19bc0dfe55d83cbe3639.jpg\n",
      "../data/378cc520d6da4ee4fcce88f0636d2dff.jpg\n",
      "../data/9f251604ffd50e32e6c46c5d84a713ce.jpg\n",
      "../data/186136c1c061fdf7e1ff2f07a0886e69.jpg\n",
      "../data/06a23592e3b0ad3ff108f1d108ff1b79.jpg\n",
      "../data/4920a36ab2c0b02e383ea6bee7557c6a.jpg\n",
      "../data/8ecbc951da754609911551f18986f919.jpg\n",
      "../data/824fe0e63671a156a84b1413b0a21db8.jpg\n",
      "../data/de8ca4ef863ad95dd717c15e4ac84c08.jpg\n",
      "../data/1470258f902cbdec8c21e7bb561f5212.jpg\n",
      "../data/8c6798b6244106a86734ad59617b50f9.jpg\n",
      "../data/ef0a614c6229e3b9d49d10dc4382554a.jpg\n",
      "../data/425608a21ed8ac71cd15abfcc104b2ed.jpg\n",
      "../data/742c54d6efe5464a86302b55a3df0040.jpg\n",
      "../data/e6cff5d2bdafddac0eed6b17b831c251.jpg\n",
      "../data/6c76f03a0b225a111876210c5dd52f1b.jpg\n",
      "../data/32d8b6c6d10e67b01230db4168cc99e0.jpg\n",
      "../data/b7b4c85382296e83ab1e0950124d15a6.jpg\n",
      "../data/a20fa0e237ee5c5abbb71ea4b290221b.jpg\n",
      "../data/f91c7005d4b68b141dd7840b0c8de987.jpg\n",
      "../data/6bd0ccf09e70e46b0b2434978a542368.jpg\n",
      "../data/f6b7b7e44b10fc3c405b0859cb4091d3.jpg\n",
      "../data/64ad883f1f99e3c86cd6d8605ee76927.jpg\n",
      "../data/0be0df16a1edfbf39918a1feb6fb2e94.jpg\n",
      "../data/3b87c16695dad40c007e38b778b027f1.jpg\n",
      "../data/b1f60a0cdc48c6dfd234aef9f3900a91.jpg\n",
      "../data/3961c5d9a9c36c7088d5f30227e807f0.jpg\n",
      "../data/896d301e82357e55b8b7b7d2e74e83c4.jpg\n",
      "../data/b65f1b48d4264c253b78f4814cab985b.jpg\n",
      "../data/f4443e6053e61b9d20ae8e3b4885e447.jpg\n",
      "../data/cdd81b646b5cc219107b1550aaf000cc.jpg\n",
      "../data/57935cc267d118276894667d0ae2880f.jpg\n",
      "../data/eff2c1eee1f6f1d951f6cf1c7d972999.jpg\n",
      "../data/2acd6ca1638b189b3b9e25c9a17837b6.jpg\n",
      "../data/aeea378590a472b042f5679bff08ec45.jpg\n",
      "../data/794a933a6ce5a63a0ed4ed07bd79a7ea.jpg\n",
      "../data/fbd1fdd1b62e68e386f44320901a37a4.jpg\n",
      "../data/6840e56fc196ae2e0f47d4e880ac4cd8.jpg\n",
      "../data/a70fa63e3ed4e3cfb772492039f85074.jpg\n",
      "../data/d29f6cb30d043bb35f4178159420e1c5.jpg\n",
      "../data/48ae618e6d98bce7818c1feab394d8d7.jpg\n",
      "../data/8ac729a874634125cda60c19f42f365a.jpg\n",
      "../data/7a4758061fc15fe93a4870eff52e8cd1.jpg\n",
      "../data/26ae75b2e858280949de8e5cb47eaa0b.jpg\n",
      "../data/6a2d26042be0df983ee5e4736a38e569.jpg\n",
      "../data/e01a49e3b2c0e486bc52c1a7ece805fc.jpg\n",
      "../data/425106d0da1be1933595d56286ea4e08.jpg\n",
      "../data/c73660712ed768d7a3f8da980b1fa3e6.jpg\n",
      "../data/a20481e34042377107d527096cdc7b17.jpg\n",
      "../data/ceaddfedaa66fe7c6de8d64bddf64128.jpg\n",
      "../data/c319c4923b8402a82e30bc6c55db55c3.jpg\n",
      "../data/c5d6af0c6b8e93f71c061e47833b0304.jpg\n",
      "../data/9d8ea254c9c548415542bd471b6dbe5f.jpg\n",
      "../data/d9437bc5b7bd53c2c740da8e2533b872.jpg\n",
      "../data/18a0a97858de95dd07d02986510768dc.jpg\n",
      "../data/b58b3bde9016b37849f20ff797898ed4.jpg\n",
      "../data/0d0d730340223a0d4db03d232e85d452.jpg\n",
      "../data/996c8a6c5e9e7be85e29447b2452878f.jpg\n",
      "../data/efc992823d3aa126faea5b1e88b67fc7.jpg\n",
      "../data/200a89c568ee679a94fce6c53aaaf1c7.jpg\n",
      "../data/9f280a181c4a92a1294610fd551dcf4a.jpg\n",
      "../data/db35853793eb5b0283adcf3b986b9051.jpg\n",
      "../data/4f2899a025a8ebc6230d0ee593103d66.jpg\n",
      "../data/08728fbfbc0bae010631ea76ccc938ff.jpg\n",
      "../data/cee51f7c2c6f9510a9952c461f2aaa28.jpg\n",
      "../data/e1172b57a93aef17b0014999c8867a42.jpg\n",
      "../data/9c29851afe53b87ffe7d01fd4b3c8109.jpg\n",
      "../data/98e13fff832ab3a4e699117e1e56c709.jpg\n",
      "../data/41e3c3332e555849f699d9a45abb6582.jpg\n",
      "../data/36a35cd3c2f71d051a3322ed92d6e9fc.jpg\n",
      "../data/3c656c537b35b8baef4a9081aedc2908.jpg\n",
      "../data/c3cd1e612a948db03e95be6627b89b3a.jpg\n",
      "../data/a94cd4aec21680c34167ef205f05fa1a.jpg\n",
      "../data/6a5c10331b4e3d2bbc65df9abd0029e7.jpg\n"
     ]
    }
   ],
   "source": [
    "data_dir = Path('../data/raw')\n",
    "\n",
    "for url in image_urls:\n",
    "    splits = url.split('/')\n",
    "    filename = splits[-1]\n",
    "    filepath = data_dir / filename\n",
    "    urllib.request.urlretrieve(url, str(filepath))\n",
    "    "
   ]
  },
  {
   "cell_type": "markdown",
   "metadata": {},
   "source": [
    "- Do dresses with shirts count as one thing or two things\n",
    "    - try treating as one piece\n",
    "- Should clothes with people in them be rejected\n",
    "    - \n",
    "- Should clothes with weird backgrounds (i.e. white on white) be rejected also\n",
    "    - classify them out\n",
    "    \n",
    "    \n",
    "Do fine-grained annotation but try bucketing / not bucketing the labels\n",
    "\n",
    "There's a list of labels that should be fed through the existing cropping pipeline and a list that need to be further examined"
   ]
  },
  {
   "cell_type": "code",
   "execution_count": 56,
   "metadata": {
    "collapsed": false,
    "scrolled": true
   },
   "outputs": [
    {
     "data": {
      "image/png": "[encoded data removed]",
      "text/plain": [
       "<matplotlib.figure.Figure at 0x11a066cc0>"
      ]
     },
     "metadata": {},
     "output_type": "display_data"
    }
   ],
   "source": [
    "gt_labels = pd.read_csv('../data/raw.csv', header=None, names=['image_name', 'tag'])\n",
    "\n",
    "sns.countplot(data=gt_labels, y='tag')\n",
    "\n",
    "num_classes = len(gt_labels.tag.unique())"
   ]
  },
  {
   "cell_type": "code",
   "execution_count": 50,
   "metadata": {
    "collapsed": false
   },
   "outputs": [],
   "source": [
    "# fine-grained first pass\n",
    "\n",
    "# create directory of symlinks\n",
    "data_path = Path('../data')\n",
    "train_finegrain_dir = data_path / 'train_finegrain'\n",
    "test_finegrain_dir = data_path / 'test_finegrain'\n",
    "if not train_finegrain_dir.exists():\n",
    "    train_finegrain_dir.mkdir()\n",
    "    \n",
    "if not test_finegrain_dir.exists():\n",
    "    test_finegrain_dir.mkdir()\n",
    "\n",
    "# generate stratified split\n",
    "X = gt_labels.image_name\n",
    "y = gt_labels.tag\n",
    "\n",
    "X_train, X_test, y_train, y_test = sklearn.cross_validation.train_test_split(X, y, test_size=0.1, stratify=y)\n",
    "\n",
    "# symlink train data\n",
    "for im_name, label in zip(X_train, y_train):\n",
    "    source_path = (data_path / 'raw' /im_name).resolve()\n",
    "    dest_path = train_finegrain_dir / label / im_name\n",
    "    \n",
    "    class_dir = dest_path.parent\n",
    "    \n",
    "    if not class_dir.exists():\n",
    "        class_dir.mkdir()\n",
    "    \n",
    "    if dest_path.exists():\n",
    "        continue\n",
    "    \n",
    "    os.symlink(str(source_path), str(dest_path))\n",
    "    \n",
    "# symlink test data\n",
    "for im_name, label in zip(X_test, y_test):\n",
    "    source_path = (data_path / 'raw' /im_name).resolve()\n",
    "    dest_path = test_finegrain_dir / label / im_name\n",
    "    \n",
    "    class_dir = dest_path.parent\n",
    "    \n",
    "    if not class_dir.exists():\n",
    "        class_dir.mkdir()\n",
    "    \n",
    "    if dest_path.exists():\n",
    "        continue\n",
    "    \n",
    "    os.symlink(str(source_path), str(dest_path))\n"
   ]
  },
  {
   "cell_type": "code",
   "execution_count": 60,
   "metadata": {
    "collapsed": false
   },
   "outputs": [
    {
     "name": "stdout",
     "output_type": "stream",
     "text": [
      "Found 100 images belonging to 9 classes.\n",
      "Found 10 images belonging to 9 classes.\n"
     ]
    }
   ],
   "source": [
    "# train / test generators\n",
    "train_data_dir = str(train_finegrain_dir)\n",
    "validation_data_dir = str(test_finegrain_dir)\n",
    "\n",
    "img_height = 224\n",
    "img_width = 224\n",
    "\n",
    "train_datagen = ImageDataGenerator(\n",
    "        rescale=1./255,\n",
    "        shear_range=0.2,\n",
    "        zoom_range=0.2,\n",
    "        horizontal_flip=True)\n",
    "\n",
    "test_datagen = ImageDataGenerator(rescale=1./255)\n",
    "\n",
    "train_generator = train_datagen.flow_from_directory(\n",
    "        train_data_dir,\n",
    "        target_size=(img_height, img_width),\n",
    "        batch_size=32,\n",
    "        class_mode='categorical')\n",
    "\n",
    "validation_generator = test_datagen.flow_from_directory(\n",
    "        validation_data_dir,\n",
    "        target_size=(img_height, img_width),\n",
    "        batch_size=32,\n",
    "        class_mode='categorical')\n",
    "\n",
    "\n"
   ]
  },
  {
   "cell_type": "code",
   "execution_count": 62,
   "metadata": {
    "collapsed": true
   },
   "outputs": [],
   "source": [
    "from keras.models import Sequential\n",
    "from keras.layers import Convolution2D, MaxPooling2D\n",
    "from keras.layers import Activation, Dropout, Flatten, Dense\n",
    "\n",
    "model = Sequential()\n",
    "model.add(Convolution2D(32, 3, 3, input_shape=(3, 224, 224)))\n",
    "model.add(Activation('relu'))\n",
    "model.add(MaxPooling2D(pool_size=(2, 2)))\n",
    "\n",
    "model.add(Convolution2D(32, 3, 3))\n",
    "model.add(Activation('relu'))\n",
    "model.add(MaxPooling2D(pool_size=(2, 2)))\n",
    "\n",
    "model.add(Convolution2D(64, 3, 3))\n",
    "model.add(Activation('relu'))\n",
    "model.add(MaxPooling2D(pool_size=(2, 2)))\n",
    "\n",
    "model.add(Flatten())  \n",
    "model.add(Dense(64))\n",
    "model.add(Activation('relu'))\n",
    "model.add(Dropout(0.5))\n",
    "model.add(Dense(num_classes))\n",
    "model.add(Activation('sigmoid'))\n",
    "\n",
    "model.compile(loss='categorical_crossentropy',\n",
    "              optimizer='rmsprop',\n",
    "              metrics=['accuracy'])"
   ]
  },
  {
   "cell_type": "code",
   "execution_count": 63,
   "metadata": {
    "collapsed": false,
    "scrolled": true
   },
   "outputs": [
    {
     "name": "stdout",
     "output_type": "stream",
     "text": [
      "Epoch 1/50\n",
      " 836/2000 [===========>..................] - ETA: 172s - loss: 2.1517 - acc: 0.2368"
     ]
    },
    {
     "ename": "KeyboardInterrupt",
     "evalue": "",
     "output_type": "error",
     "traceback": [
      "\u001b[0;31m---------------------------------------------------------------------------\u001b[0m",
      "\u001b[0;31mKeyboardInterrupt\u001b[0m                         Traceback (most recent call last)",
      "\u001b[0;32m<ipython-input-63-71c26d3ef8e8>\u001b[0m in \u001b[0;36m<module>\u001b[0;34m()\u001b[0m\n\u001b[1;32m      4\u001b[0m         \u001b[0mnb_epoch\u001b[0m\u001b[0;34m=\u001b[0m\u001b[0;36m50\u001b[0m\u001b[0;34m,\u001b[0m\u001b[0;34m\u001b[0m\u001b[0m\n\u001b[1;32m      5\u001b[0m         \u001b[0mvalidation_data\u001b[0m\u001b[0;34m=\u001b[0m\u001b[0mvalidation_generator\u001b[0m\u001b[0;34m,\u001b[0m\u001b[0;34m\u001b[0m\u001b[0m\n\u001b[0;32m----> 6\u001b[0;31m         nb_val_samples=800)\n\u001b[0m\u001b[1;32m      7\u001b[0m \u001b[0mmodel\u001b[0m\u001b[0;34m.\u001b[0m\u001b[0msave_weights\u001b[0m\u001b[0;34m(\u001b[0m\u001b[0;34m'finegrained.h5'\u001b[0m\u001b[0;34m)\u001b[0m\u001b[0;34m\u001b[0m\u001b[0m\n",
      "\u001b[0;32m/Users/peekabuy/projects/detect_clothes/env/lib/python3.5/site-packages/keras/models.py\u001b[0m in \u001b[0;36mfit_generator\u001b[0;34m(self, generator, samples_per_epoch, nb_epoch, verbose, callbacks, validation_data, nb_val_samples, class_weight, max_q_size, **kwargs)\u001b[0m\n\u001b[1;32m    659\u001b[0m                                         \u001b[0mnb_val_samples\u001b[0m\u001b[0;34m=\u001b[0m\u001b[0mnb_val_samples\u001b[0m\u001b[0;34m,\u001b[0m\u001b[0;34m\u001b[0m\u001b[0m\n\u001b[1;32m    660\u001b[0m                                         \u001b[0mclass_weight\u001b[0m\u001b[0;34m=\u001b[0m\u001b[0mclass_weight\u001b[0m\u001b[0;34m,\u001b[0m\u001b[0;34m\u001b[0m\u001b[0m\n\u001b[0;32m--> 661\u001b[0;31m                                         max_q_size=max_q_size)\n\u001b[0m\u001b[1;32m    662\u001b[0m \u001b[0;34m\u001b[0m\u001b[0m\n\u001b[1;32m    663\u001b[0m     \u001b[0;32mdef\u001b[0m \u001b[0mevaluate_generator\u001b[0m\u001b[0;34m(\u001b[0m\u001b[0mself\u001b[0m\u001b[0;34m,\u001b[0m \u001b[0mgenerator\u001b[0m\u001b[0;34m,\u001b[0m \u001b[0mval_samples\u001b[0m\u001b[0;34m,\u001b[0m \u001b[0mmax_q_size\u001b[0m\u001b[0;34m=\u001b[0m\u001b[0;36m10\u001b[0m\u001b[0;34m,\u001b[0m \u001b[0;34m**\u001b[0m\u001b[0mkwargs\u001b[0m\u001b[0;34m)\u001b[0m\u001b[0;34m:\u001b[0m\u001b[0;34m\u001b[0m\u001b[0m\n",
      "\u001b[0;32m/Users/peekabuy/projects/detect_clothes/env/lib/python3.5/site-packages/keras/engine/training.py\u001b[0m in \u001b[0;36mfit_generator\u001b[0;34m(self, generator, samples_per_epoch, nb_epoch, verbose, callbacks, validation_data, nb_val_samples, class_weight, max_q_size)\u001b[0m\n\u001b[1;32m   1411\u001b[0m                     outs = self.train_on_batch(x, y,\n\u001b[1;32m   1412\u001b[0m                                                \u001b[0msample_weight\u001b[0m\u001b[0;34m=\u001b[0m\u001b[0msample_weight\u001b[0m\u001b[0;34m,\u001b[0m\u001b[0;34m\u001b[0m\u001b[0m\n\u001b[0;32m-> 1413\u001b[0;31m                                                class_weight=class_weight)\n\u001b[0m\u001b[1;32m   1414\u001b[0m                 \u001b[0;32mexcept\u001b[0m\u001b[0;34m:\u001b[0m\u001b[0;34m\u001b[0m\u001b[0m\n\u001b[1;32m   1415\u001b[0m                     \u001b[0m_stop\u001b[0m\u001b[0;34m.\u001b[0m\u001b[0mset\u001b[0m\u001b[0;34m(\u001b[0m\u001b[0;34m)\u001b[0m\u001b[0;34m\u001b[0m\u001b[0m\n",
      "\u001b[0;32m/Users/peekabuy/projects/detect_clothes/env/lib/python3.5/site-packages/keras/engine/training.py\u001b[0m in \u001b[0;36mtrain_on_batch\u001b[0;34m(self, x, y, sample_weight, class_weight)\u001b[0m\n\u001b[1;32m   1195\u001b[0m             \u001b[0mins\u001b[0m \u001b[0;34m=\u001b[0m \u001b[0mx\u001b[0m \u001b[0;34m+\u001b[0m \u001b[0my\u001b[0m \u001b[0;34m+\u001b[0m \u001b[0msample_weights\u001b[0m\u001b[0;34m\u001b[0m\u001b[0m\n\u001b[1;32m   1196\u001b[0m         \u001b[0mself\u001b[0m\u001b[0;34m.\u001b[0m\u001b[0m_make_train_function\u001b[0m\u001b[0;34m(\u001b[0m\u001b[0;34m)\u001b[0m\u001b[0;34m\u001b[0m\u001b[0m\n\u001b[0;32m-> 1197\u001b[0;31m         \u001b[0moutputs\u001b[0m \u001b[0;34m=\u001b[0m \u001b[0mself\u001b[0m\u001b[0;34m.\u001b[0m\u001b[0mtrain_function\u001b[0m\u001b[0;34m(\u001b[0m\u001b[0mins\u001b[0m\u001b[0;34m)\u001b[0m\u001b[0;34m\u001b[0m\u001b[0m\n\u001b[0m\u001b[1;32m   1198\u001b[0m         \u001b[0;32mif\u001b[0m \u001b[0mlen\u001b[0m\u001b[0;34m(\u001b[0m\u001b[0moutputs\u001b[0m\u001b[0;34m)\u001b[0m \u001b[0;34m==\u001b[0m \u001b[0;36m1\u001b[0m\u001b[0;34m:\u001b[0m\u001b[0;34m\u001b[0m\u001b[0m\n\u001b[1;32m   1199\u001b[0m             \u001b[0;32mreturn\u001b[0m \u001b[0moutputs\u001b[0m\u001b[0;34m[\u001b[0m\u001b[0;36m0\u001b[0m\u001b[0;34m]\u001b[0m\u001b[0;34m\u001b[0m\u001b[0m\n",
      "\u001b[0;32m/Users/peekabuy/projects/detect_clothes/env/lib/python3.5/site-packages/keras/backend/theano_backend.py\u001b[0m in \u001b[0;36m__call__\u001b[0;34m(self, inputs)\u001b[0m\n\u001b[1;32m    529\u001b[0m     \u001b[0;32mdef\u001b[0m \u001b[0m__call__\u001b[0m\u001b[0;34m(\u001b[0m\u001b[0mself\u001b[0m\u001b[0;34m,\u001b[0m \u001b[0minputs\u001b[0m\u001b[0;34m)\u001b[0m\u001b[0;34m:\u001b[0m\u001b[0;34m\u001b[0m\u001b[0m\n\u001b[1;32m    530\u001b[0m         \u001b[0;32massert\u001b[0m \u001b[0mtype\u001b[0m\u001b[0;34m(\u001b[0m\u001b[0minputs\u001b[0m\u001b[0;34m)\u001b[0m \u001b[0;32min\u001b[0m \u001b[0;34m{\u001b[0m\u001b[0mlist\u001b[0m\u001b[0;34m,\u001b[0m \u001b[0mtuple\u001b[0m\u001b[0;34m}\u001b[0m\u001b[0;34m\u001b[0m\u001b[0m\n\u001b[0;32m--> 531\u001b[0;31m         \u001b[0;32mreturn\u001b[0m \u001b[0mself\u001b[0m\u001b[0;34m.\u001b[0m\u001b[0mfunction\u001b[0m\u001b[0;34m(\u001b[0m\u001b[0;34m*\u001b[0m\u001b[0minputs\u001b[0m\u001b[0;34m)\u001b[0m\u001b[0;34m\u001b[0m\u001b[0m\n\u001b[0m\u001b[1;32m    532\u001b[0m \u001b[0;34m\u001b[0m\u001b[0m\n\u001b[1;32m    533\u001b[0m \u001b[0;34m\u001b[0m\u001b[0m\n",
      "\u001b[0;32m/Users/peekabuy/projects/detect_clothes/env/lib/python3.5/site-packages/theano/compile/function_module.py\u001b[0m in \u001b[0;36m__call__\u001b[0;34m(self, *args, **kwargs)\u001b[0m\n\u001b[1;32m    857\u001b[0m         \u001b[0mt0_fn\u001b[0m \u001b[0;34m=\u001b[0m \u001b[0mtime\u001b[0m\u001b[0;34m.\u001b[0m\u001b[0mtime\u001b[0m\u001b[0;34m(\u001b[0m\u001b[0;34m)\u001b[0m\u001b[0;34m\u001b[0m\u001b[0m\n\u001b[1;32m    858\u001b[0m         \u001b[0;32mtry\u001b[0m\u001b[0;34m:\u001b[0m\u001b[0;34m\u001b[0m\u001b[0m\n\u001b[0;32m--> 859\u001b[0;31m             \u001b[0moutputs\u001b[0m \u001b[0;34m=\u001b[0m \u001b[0mself\u001b[0m\u001b[0;34m.\u001b[0m\u001b[0mfn\u001b[0m\u001b[0;34m(\u001b[0m\u001b[0;34m)\u001b[0m\u001b[0;34m\u001b[0m\u001b[0m\n\u001b[0m\u001b[1;32m    860\u001b[0m         \u001b[0;32mexcept\u001b[0m \u001b[0mException\u001b[0m\u001b[0;34m:\u001b[0m\u001b[0;34m\u001b[0m\u001b[0m\n\u001b[1;32m    861\u001b[0m             \u001b[0;32mif\u001b[0m \u001b[0mhasattr\u001b[0m\u001b[0;34m(\u001b[0m\u001b[0mself\u001b[0m\u001b[0;34m.\u001b[0m\u001b[0mfn\u001b[0m\u001b[0;34m,\u001b[0m \u001b[0;34m'position_of_error'\u001b[0m\u001b[0;34m)\u001b[0m\u001b[0;34m:\u001b[0m\u001b[0;34m\u001b[0m\u001b[0m\n",
      "\u001b[0;32m/Users/peekabuy/projects/detect_clothes/env/lib/python3.5/site-packages/theano/gof/op.py\u001b[0m in \u001b[0;36mrval\u001b[0;34m(p, i, o, n)\u001b[0m\n\u001b[1;32m    909\u001b[0m         \u001b[0;32mif\u001b[0m \u001b[0mparams\u001b[0m \u001b[0;32mis\u001b[0m \u001b[0mgraph\u001b[0m\u001b[0;34m.\u001b[0m\u001b[0mNoParams\u001b[0m\u001b[0;34m:\u001b[0m\u001b[0;34m\u001b[0m\u001b[0m\n\u001b[1;32m    910\u001b[0m             \u001b[0;31m# default arguments are stored in the closure of `rval`\u001b[0m\u001b[0;34m\u001b[0m\u001b[0;34m\u001b[0m\u001b[0m\n\u001b[0;32m--> 911\u001b[0;31m             \u001b[0;32mdef\u001b[0m \u001b[0mrval\u001b[0m\u001b[0;34m(\u001b[0m\u001b[0mp\u001b[0m\u001b[0;34m=\u001b[0m\u001b[0mp\u001b[0m\u001b[0;34m,\u001b[0m \u001b[0mi\u001b[0m\u001b[0;34m=\u001b[0m\u001b[0mnode_input_storage\u001b[0m\u001b[0;34m,\u001b[0m \u001b[0mo\u001b[0m\u001b[0;34m=\u001b[0m\u001b[0mnode_output_storage\u001b[0m\u001b[0;34m,\u001b[0m \u001b[0mn\u001b[0m\u001b[0;34m=\u001b[0m\u001b[0mnode\u001b[0m\u001b[0;34m)\u001b[0m\u001b[0;34m:\u001b[0m\u001b[0;34m\u001b[0m\u001b[0m\n\u001b[0m\u001b[1;32m    912\u001b[0m                 \u001b[0mr\u001b[0m \u001b[0;34m=\u001b[0m \u001b[0mp\u001b[0m\u001b[0;34m(\u001b[0m\u001b[0mn\u001b[0m\u001b[0;34m,\u001b[0m \u001b[0;34m[\u001b[0m\u001b[0mx\u001b[0m\u001b[0;34m[\u001b[0m\u001b[0;36m0\u001b[0m\u001b[0;34m]\u001b[0m \u001b[0;32mfor\u001b[0m \u001b[0mx\u001b[0m \u001b[0;32min\u001b[0m \u001b[0mi\u001b[0m\u001b[0;34m]\u001b[0m\u001b[0;34m,\u001b[0m \u001b[0mo\u001b[0m\u001b[0;34m)\u001b[0m\u001b[0;34m\u001b[0m\u001b[0m\n\u001b[1;32m    913\u001b[0m                 \u001b[0;32mfor\u001b[0m \u001b[0mo\u001b[0m \u001b[0;32min\u001b[0m \u001b[0mnode\u001b[0m\u001b[0;34m.\u001b[0m\u001b[0moutputs\u001b[0m\u001b[0;34m:\u001b[0m\u001b[0;34m\u001b[0m\u001b[0m\n",
      "\u001b[0;31mKeyboardInterrupt\u001b[0m: "
     ]
    }
   ],
   "source": [
    "model.fit_generator(\n",
    "        train_generator,\n",
    "        samples_per_epoch=2000,\n",
    "        nb_epoch=50,\n",
    "        validation_data=validation_generator,\n",
    "        nb_val_samples=800)\n",
    "model.save_weights('finegrained.h5')"
   ]
  },
  {
   "cell_type": "code",
   "execution_count": 106,
   "metadata": {
    "collapsed": false,
    "scrolled": false
   },
   "outputs": [
    {
     "data": {
      "text/plain": [
       "<matplotlib.patches.Rectangle at 0x13c929f60>"
      ]
     },
     "execution_count": 106,
     "metadata": {},
     "output_type": "execute_result"
    },
    {
     "data": {
      "image/png": "[encoded data removed]",
      "text/plain": [
       "<matplotlib.figure.Figure at 0x13c1ed940>"
      ]
     },
     "metadata": {},
     "output_type": "display_data"
    }
   ],
   "source": [
    "# simple bounding box doer\n",
    "test_image_filename = '7c2e0159e68207a35a8ff69238cf63ae.jpg'\n",
    "test_image_path = (Path('../data/raw') / test_image_filename).resolve()\n",
    "\n",
    "test_image = cv2.imread(str(test_image_path))\n",
    "gray_image = cv2.cvtColor(test_image, cv2.COLOR_RGB2GRAY)\n",
    "\n",
    "def auto_canny(image, sigma=0.33):\n",
    "    # compute the median of the single channel pixel intensities\n",
    "    v = np.median(image)\n",
    " \n",
    "    # apply automatic Canny edge detection using the computed median\n",
    "    lower = int(max(0, (1.0 - sigma) * v))\n",
    "    upper = int(min(255, (1.0 + sigma) * v))\n",
    "    edged = cv2.Canny(image, lower, upper)\n",
    " \n",
    "    # return the edged image\n",
    "    return edged\n",
    "\n",
    "edges = auto_canny(gray_image)\n",
    "\n",
    "\n",
    "fig = plt.figure(figsize=(10,10))\n",
    "ax1 = fig.add_subplot(111, aspect='equal')\n",
    "ax1.imshow(edges)\n",
    "\n",
    "box = cv2.boundingRect(edges)\n",
    "\n",
    "pad = 20\n",
    "\n",
    "ax1.add_patch(\n",
    "    patches.Rectangle(\n",
    "        (box[0] - pad, box[1] - pad),   # (x,y)\n",
    "        box[2] + 2*pad,          # width\n",
    "        box[3] + 2*pad,          # height\n",
    "        fill=False\n",
    "    )\n",
    ")\n",
    "\n",
    "# im2, contours, hierarchy = cv2.findContours(edges,cv2.RETR_TREE,cv2.CHAIN_APPROX_SIMPLE)\n",
    "\n",
    "# plt.figure(figsize=(10,10))\n",
    "# plt.imshow(im2)"
   ]
  },
  {
   "cell_type": "code",
   "execution_count": 163,
   "metadata": {
    "collapsed": false
   },
   "outputs": [],
   "source": [
    "test_images = list(Path('../data/raw').glob('*.jpg'))\n",
    "out_dir = Path('../data/simpleboxes')\n",
    "\n",
    "if not out_dir.exists():\n",
    "    out_dir.mkdir()\n",
    "    \n",
    "pad = 5\n",
    "    \n",
    "boxes = {}\n",
    "for image_path in test_images:\n",
    "    key = image_path.parts[-1]\n",
    "    test_image = cv2.imread(str(image_path))\n",
    "    gray_image = cv2.cvtColor(test_image, cv2.COLOR_RGB2GRAY)\n",
    "\n",
    "    edges = auto_canny(gray_image)\n",
    "    \n",
    "    x, y, w, h = cv2.boundingRect(edges)\n",
    "    \n",
    "    # draw on the image and then save it to the output place\n",
    "    \n",
    "    \n",
    "    x1 = np.clip(x - pad, 0, None)\n",
    "    y1 = np.clip(y - pad, 0, None)\n",
    "    x2 = np.clip(x + w + pad, None, test_image.shape[1])\n",
    "    y2 = np.clip(y + h + pad, None, test_image.shape[0])\n",
    "    \n",
    "    \n",
    "    cv2.rectangle(test_image, (x1, y1), (x2, y2), (0, 0, 255), 2)\n",
    "    \n",
    "    cv2.imwrite(str(out_dir / key), test_image)\n"
   ]
  },
  {
   "cell_type": "code",
   "execution_count": null,
   "metadata": {
    "collapsed": true
   },
   "outputs": [],
   "source": []
  }
 ],
 "metadata": {
  "kernelspec": {
   "display_name": "Python 3",
   "language": "python",
   "name": "python3"
  },
  "language_info": {
   "codemirror_mode": {
    "name": "ipython",
    "version": 3
   },
   "file_extension": ".py",
   "mimetype": "text/x-python",
   "name": "python",
   "nbconvert_exporter": "python",
   "pygments_lexer": "ipython3",
   "version": "3.5.1"
  }
 },
 "nbformat": 4,
 "nbformat_minor": 0
}
